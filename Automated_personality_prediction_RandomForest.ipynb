{
  "cells": [
    {
      "cell_type": "markdown",
      "metadata": {
        "id": "view-in-github",
        "colab_type": "text"
      },
      "source": [
        "<a href=\"https://colab.research.google.com/github/PravinAmin/PravinAmin/blob/main/Automated_personality_prediction_RandomForest.ipynb\" target=\"_parent\"><img src=\"https://colab.research.google.com/assets/colab-badge.svg\" alt=\"Open In Colab\"/></a>"
      ]
    },
    {
      "cell_type": "code",
      "execution_count": null,
      "metadata": {
        "id": "sTtHKRIUxUCs"
      },
      "outputs": [],
      "source": [],
      "id": "sTtHKRIUxUCs"
    },
    {
      "cell_type": "code",
      "execution_count": null,
      "metadata": {
        "colab": {
          "base_uri": "https://localhost:8080/"
        },
        "id": "fuAK7HMSxX9V",
        "outputId": "0d54a31b-645b-4e40-ca6b-72dd40e011fd"
      },
      "outputs": [
        {
          "name": "stdout",
          "output_type": "stream",
          "text": [
            "Mounted at /content/drive\n"
          ]
        }
      ],
      "source": [
        "from google.colab import drive\n",
        "drive.mount('/content/drive')"
      ],
      "id": "fuAK7HMSxX9V"
    },
    {
      "cell_type": "code",
      "execution_count": null,
      "metadata": {
        "id": "e7c0d9ad"
      },
      "outputs": [],
      "source": [
        "import pandas as pd\n",
        "import numpy as np\n",
        "import matplotlib.pyplot as plt \n",
        "import seaborn as sns\n",
        "\n",
        "import warnings\n",
        "warnings.filterwarnings('ignore')"
      ],
      "id": "e7c0d9ad"
    },
    {
      "cell_type": "code",
      "execution_count": null,
      "metadata": {
        "colab": {
          "base_uri": "https://localhost:8080/",
          "height": 206
        },
        "id": "dba0af9c",
        "outputId": "687cb915-7dad-40d2-df63-926452f262dc"
      },
      "outputs": [
        {
          "data": {
            "text/html": [
              "\n",
              "  <div id=\"df-9197ba8a-dbb5-42eb-af11-f5ae0cb01e08\">\n",
              "    <div class=\"colab-df-container\">\n",
              "      <div>\n",
              "<style scoped>\n",
              "    .dataframe tbody tr th:only-of-type {\n",
              "        vertical-align: middle;\n",
              "    }\n",
              "\n",
              "    .dataframe tbody tr th {\n",
              "        vertical-align: top;\n",
              "    }\n",
              "\n",
              "    .dataframe thead th {\n",
              "        text-align: right;\n",
              "    }\n",
              "</style>\n",
              "<table border=\"1\" class=\"dataframe\">\n",
              "  <thead>\n",
              "    <tr style=\"text-align: right;\">\n",
              "      <th></th>\n",
              "      <th>posts</th>\n",
              "      <th>type</th>\n",
              "    </tr>\n",
              "  </thead>\n",
              "  <tbody>\n",
              "    <tr>\n",
              "      <th>0</th>\n",
              "      <td>know intj tool use interaction people excuse a...</td>\n",
              "      <td>INTJ</td>\n",
              "    </tr>\n",
              "    <tr>\n",
              "      <th>1</th>\n",
              "      <td>rap music ehh opp yeah know valid well know fa...</td>\n",
              "      <td>INTJ</td>\n",
              "    </tr>\n",
              "    <tr>\n",
              "      <th>2</th>\n",
              "      <td>preferably p hd low except wew lad video p min...</td>\n",
              "      <td>INTJ</td>\n",
              "    </tr>\n",
              "    <tr>\n",
              "      <th>3</th>\n",
              "      <td>drink like wish could drink red wine give head...</td>\n",
              "      <td>INTJ</td>\n",
              "    </tr>\n",
              "    <tr>\n",
              "      <th>4</th>\n",
              "      <td>space program ah bad deal meing freelance max ...</td>\n",
              "      <td>INTJ</td>\n",
              "    </tr>\n",
              "  </tbody>\n",
              "</table>\n",
              "</div>\n",
              "      <button class=\"colab-df-convert\" onclick=\"convertToInteractive('df-9197ba8a-dbb5-42eb-af11-f5ae0cb01e08')\"\n",
              "              title=\"Convert this dataframe to an interactive table.\"\n",
              "              style=\"display:none;\">\n",
              "        \n",
              "  <svg xmlns=\"http://www.w3.org/2000/svg\" height=\"24px\"viewBox=\"0 0 24 24\"\n",
              "       width=\"24px\">\n",
              "    <path d=\"M0 0h24v24H0V0z\" fill=\"none\"/>\n",
              "    <path d=\"M18.56 5.44l.94 2.06.94-2.06 2.06-.94-2.06-.94-.94-2.06-.94 2.06-2.06.94zm-11 1L8.5 8.5l.94-2.06 2.06-.94-2.06-.94L8.5 2.5l-.94 2.06-2.06.94zm10 10l.94 2.06.94-2.06 2.06-.94-2.06-.94-.94-2.06-.94 2.06-2.06.94z\"/><path d=\"M17.41 7.96l-1.37-1.37c-.4-.4-.92-.59-1.43-.59-.52 0-1.04.2-1.43.59L10.3 9.45l-7.72 7.72c-.78.78-.78 2.05 0 2.83L4 21.41c.39.39.9.59 1.41.59.51 0 1.02-.2 1.41-.59l7.78-7.78 2.81-2.81c.8-.78.8-2.07 0-2.86zM5.41 20L4 18.59l7.72-7.72 1.47 1.35L5.41 20z\"/>\n",
              "  </svg>\n",
              "      </button>\n",
              "      \n",
              "  <style>\n",
              "    .colab-df-container {\n",
              "      display:flex;\n",
              "      flex-wrap:wrap;\n",
              "      gap: 12px;\n",
              "    }\n",
              "\n",
              "    .colab-df-convert {\n",
              "      background-color: #E8F0FE;\n",
              "      border: none;\n",
              "      border-radius: 50%;\n",
              "      cursor: pointer;\n",
              "      display: none;\n",
              "      fill: #1967D2;\n",
              "      height: 32px;\n",
              "      padding: 0 0 0 0;\n",
              "      width: 32px;\n",
              "    }\n",
              "\n",
              "    .colab-df-convert:hover {\n",
              "      background-color: #E2EBFA;\n",
              "      box-shadow: 0px 1px 2px rgba(60, 64, 67, 0.3), 0px 1px 3px 1px rgba(60, 64, 67, 0.15);\n",
              "      fill: #174EA6;\n",
              "    }\n",
              "\n",
              "    [theme=dark] .colab-df-convert {\n",
              "      background-color: #3B4455;\n",
              "      fill: #D2E3FC;\n",
              "    }\n",
              "\n",
              "    [theme=dark] .colab-df-convert:hover {\n",
              "      background-color: #434B5C;\n",
              "      box-shadow: 0px 1px 3px 1px rgba(0, 0, 0, 0.15);\n",
              "      filter: drop-shadow(0px 1px 2px rgba(0, 0, 0, 0.3));\n",
              "      fill: #FFFFFF;\n",
              "    }\n",
              "  </style>\n",
              "\n",
              "      <script>\n",
              "        const buttonEl =\n",
              "          document.querySelector('#df-9197ba8a-dbb5-42eb-af11-f5ae0cb01e08 button.colab-df-convert');\n",
              "        buttonEl.style.display =\n",
              "          google.colab.kernel.accessAllowed ? 'block' : 'none';\n",
              "\n",
              "        async function convertToInteractive(key) {\n",
              "          const element = document.querySelector('#df-9197ba8a-dbb5-42eb-af11-f5ae0cb01e08');\n",
              "          const dataTable =\n",
              "            await google.colab.kernel.invokeFunction('convertToInteractive',\n",
              "                                                     [key], {});\n",
              "          if (!dataTable) return;\n",
              "\n",
              "          const docLinkHtml = 'Like what you see? Visit the ' +\n",
              "            '<a target=\"_blank\" href=https://colab.research.google.com/notebooks/data_table.ipynb>data table notebook</a>'\n",
              "            + ' to learn more about interactive tables.';\n",
              "          element.innerHTML = '';\n",
              "          dataTable['output_type'] = 'display_data';\n",
              "          await google.colab.output.renderOutput(dataTable, element);\n",
              "          const docLink = document.createElement('div');\n",
              "          docLink.innerHTML = docLinkHtml;\n",
              "          element.appendChild(docLink);\n",
              "        }\n",
              "      </script>\n",
              "    </div>\n",
              "  </div>\n",
              "  "
            ],
            "text/plain": [
              "                                               posts  type\n",
              "0  know intj tool use interaction people excuse a...  INTJ\n",
              "1  rap music ehh opp yeah know valid well know fa...  INTJ\n",
              "2  preferably p hd low except wew lad video p min...  INTJ\n",
              "3  drink like wish could drink red wine give head...  INTJ\n",
              "4  space program ah bad deal meing freelance max ...  INTJ"
            ]
          },
          "execution_count": 3,
          "metadata": {},
          "output_type": "execute_result"
        }
      ],
      "source": [
        "MBTI = pd.read_csv('/content/drive/MyDrive/Thesis/MBTI500.csv')\n",
        "MBTI.head()"
      ],
      "id": "dba0af9c"
    },
    {
      "cell_type": "code",
      "execution_count": null,
      "metadata": {
        "id": "36c039f8"
      },
      "outputs": [],
      "source": [
        "#Inspection and Cleaning"
      ],
      "id": "36c039f8"
    },
    {
      "cell_type": "code",
      "execution_count": null,
      "metadata": {
        "colab": {
          "base_uri": "https://localhost:8080/"
        },
        "id": "a7c8b0d7",
        "outputId": "91171f74-0219-4720-cf23-6e9c753a15c3"
      },
      "outputs": [
        {
          "name": "stdout",
          "output_type": "stream",
          "text": [
            "<class 'pandas.core.frame.DataFrame'>\n",
            "RangeIndex: 106067 entries, 0 to 106066\n",
            "Data columns (total 2 columns):\n",
            " #   Column  Non-Null Count   Dtype \n",
            "---  ------  --------------   ----- \n",
            " 0   posts   106067 non-null  object\n",
            " 1   type    106067 non-null  object\n",
            "dtypes: object(2)\n",
            "memory usage: 1.6+ MB\n"
          ]
        }
      ],
      "source": [
        "MBTI.info()"
      ],
      "id": "a7c8b0d7"
    },
    {
      "cell_type": "code",
      "execution_count": null,
      "metadata": {
        "id": "84aff21c"
      },
      "outputs": [],
      "source": [
        "MBTI = MBTI.rename(columns={'type':'Personality Type'})"
      ],
      "id": "84aff21c"
    },
    {
      "cell_type": "code",
      "execution_count": null,
      "metadata": {
        "colab": {
          "base_uri": "https://localhost:8080/",
          "height": 334
        },
        "id": "f916ab8a",
        "outputId": "824ffb0a-9b78-4345-c3a7-1b008a3cf6c2"
      },
      "outputs": [
        {
          "data": {
            "image/png": "[encoded data removed]",
            "text/plain": [
              "<Figure size 864x360 with 1 Axes>"
            ]
          },
          "metadata": {},
          "output_type": "display_data"
        }
      ],
      "source": [
        "plt.figure(figsize=(12,5))\n",
        "df_bar_chart=MBTI.groupby('Personality Type').count().sort_values('posts',ascending = False)\n",
        "sns.barplot(x=df_bar_chart.index, y=df_bar_chart['posts'],palette=\"Spectral\")\n",
        "plt.show()\n"
      ],
      "id": "f916ab8a"
    },
    {
      "cell_type": "code",
      "execution_count": null,
      "metadata": {
        "id": "c3740f20"
      },
      "outputs": [],
      "source": [
        "#Some amount of class imbalance found. "
      ],
      "id": "c3740f20"
    },
    {
      "cell_type": "code",
      "execution_count": null,
      "metadata": {
        "colab": {
          "base_uri": "https://localhost:8080/"
        },
        "id": "01516305",
        "outputId": "0f637b05-dbf9-4ab4-ef3a-fedb9e5a012c"
      },
      "outputs": [
        {
          "data": {
            "text/plain": [
              "count    106067.000000\n",
              "mean        500.019818\n",
              "std           1.209997\n",
              "min         479.000000\n",
              "25%         500.000000\n",
              "50%         500.000000\n",
              "75%         500.000000\n",
              "max         527.000000\n",
              "Name: Length, dtype: float64"
            ]
          },
          "execution_count": 9,
          "metadata": {},
          "output_type": "execute_result"
        }
      ],
      "source": [
        "MBTI['Length'] = MBTI['posts'].apply(lambda x: len(x.split(' ')))\n",
        "MBTI['Length'].describe()"
      ],
      "id": "01516305"
    },
    {
      "cell_type": "code",
      "execution_count": null,
      "metadata": {
        "id": "b6d2cc20"
      },
      "outputs": [],
      "source": [
        "#As we can see the length of the sentences are not exactly 500 each. "
      ],
      "id": "b6d2cc20"
    },
    {
      "cell_type": "code",
      "execution_count": null,
      "metadata": {
        "id": "d030ccbb"
      },
      "outputs": [],
      "source": [
        "#We will now get a list of all the words in all the posts. \n",
        "#We will take a sample of the data since there are a lot of words present. "
      ],
      "id": "d030ccbb"
    },
    {
      "cell_type": "code",
      "execution_count": null,
      "metadata": {
        "colab": {
          "base_uri": "https://localhost:8080/"
        },
        "id": "59b0dd63",
        "outputId": "6f4c1bfc-4719-4d37-85f5-8567188fcff1"
      },
      "outputs": [
        {
          "data": {
            "text/plain": [
              "10607"
            ]
          },
          "execution_count": 12,
          "metadata": {},
          "output_type": "execute_result"
        }
      ],
      "source": [
        "MBTI_Pred = MBTI.sample(frac=0.1)\n",
        "len(MBTI_Pred)"
      ],
      "id": "59b0dd63"
    },
    {
      "cell_type": "code",
      "execution_count": null,
      "metadata": {
        "colab": {
          "base_uri": "https://localhost:8080/",
          "height": 336
        },
        "id": "22f421b2",
        "outputId": "0850ce19-421b-4d18-cfe0-d1a47386ad42"
      },
      "outputs": [
        {
          "data": {
            "image/png": "[encoded data removed]",
            "text/plain": [
              "<Figure size 864x360 with 1 Axes>"
            ]
          },
          "metadata": {},
          "output_type": "display_data"
        }
      ],
      "source": [
        "plt.figure(figsize=(12,5))\n",
        "plt.plot(MBTI_Pred['Personality Type'].value_counts())\n",
        "plt.title('Distribution of Classes')\n",
        "plt.show()"
      ],
      "id": "22f421b2"
    },
    {
      "cell_type": "code",
      "execution_count": null,
      "metadata": {
        "id": "62df7a24"
      },
      "outputs": [],
      "source": [
        "Words = list()\n",
        "for i in list(MBTI_Pred['posts']):\n",
        "    for j in i.split(' '):\n",
        "        Words.append(j)"
      ],
      "id": "62df7a24"
    },
    {
      "cell_type": "code",
      "execution_count": null,
      "metadata": {
        "id": "75924633"
      },
      "outputs": [],
      "source": [
        "from collections import Counter"
      ],
      "id": "75924633"
    },
    {
      "cell_type": "code",
      "execution_count": null,
      "metadata": {
        "colab": {
          "base_uri": "https://localhost:8080/",
          "height": 255
        },
        "id": "61c5eb06",
        "outputId": "8401877a-31c8-4087-c605-2576d7108ede"
      },
      "outputs": [
        {
          "name": "stdout",
          "output_type": "stream",
          "text": [
            "71806\n"
          ]
        },
        {
          "data": {
            "text/html": [
              "\n",
              "  <div id=\"df-02aec321-283a-4739-960c-fc3f1966a71a\">\n",
              "    <div class=\"colab-df-container\">\n",
              "      <div>\n",
              "<style scoped>\n",
              "    .dataframe tbody tr th:only-of-type {\n",
              "        vertical-align: middle;\n",
              "    }\n",
              "\n",
              "    .dataframe tbody tr th {\n",
              "        vertical-align: top;\n",
              "    }\n",
              "\n",
              "    .dataframe thead th {\n",
              "        text-align: right;\n",
              "    }\n",
              "</style>\n",
              "<table border=\"1\" class=\"dataframe\">\n",
              "  <thead>\n",
              "    <tr style=\"text-align: right;\">\n",
              "      <th></th>\n",
              "      <th>Frequency</th>\n",
              "    </tr>\n",
              "    <tr>\n",
              "      <th>Word</th>\n",
              "      <th></th>\n",
              "    </tr>\n",
              "  </thead>\n",
              "  <tbody>\n",
              "    <tr>\n",
              "      <th>like</th>\n",
              "      <td>70030</td>\n",
              "    </tr>\n",
              "    <tr>\n",
              "      <th>think</th>\n",
              "      <td>59130</td>\n",
              "    </tr>\n",
              "    <tr>\n",
              "      <th>people</th>\n",
              "      <td>54906</td>\n",
              "    </tr>\n",
              "    <tr>\n",
              "      <th>get</th>\n",
              "      <td>53254</td>\n",
              "    </tr>\n",
              "    <tr>\n",
              "      <th>thing</th>\n",
              "      <td>40650</td>\n",
              "    </tr>\n",
              "  </tbody>\n",
              "</table>\n",
              "</div>\n",
              "      <button class=\"colab-df-convert\" onclick=\"convertToInteractive('df-02aec321-283a-4739-960c-fc3f1966a71a')\"\n",
              "              title=\"Convert this dataframe to an interactive table.\"\n",
              "              style=\"display:none;\">\n",
              "        \n",
              "  <svg xmlns=\"http://www.w3.org/2000/svg\" height=\"24px\"viewBox=\"0 0 24 24\"\n",
              "       width=\"24px\">\n",
              "    <path d=\"M0 0h24v24H0V0z\" fill=\"none\"/>\n",
              "    <path d=\"M18.56 5.44l.94 2.06.94-2.06 2.06-.94-2.06-.94-.94-2.06-.94 2.06-2.06.94zm-11 1L8.5 8.5l.94-2.06 2.06-.94-2.06-.94L8.5 2.5l-.94 2.06-2.06.94zm10 10l.94 2.06.94-2.06 2.06-.94-2.06-.94-.94-2.06-.94 2.06-2.06.94z\"/><path d=\"M17.41 7.96l-1.37-1.37c-.4-.4-.92-.59-1.43-.59-.52 0-1.04.2-1.43.59L10.3 9.45l-7.72 7.72c-.78.78-.78 2.05 0 2.83L4 21.41c.39.39.9.59 1.41.59.51 0 1.02-.2 1.41-.59l7.78-7.78 2.81-2.81c.8-.78.8-2.07 0-2.86zM5.41 20L4 18.59l7.72-7.72 1.47 1.35L5.41 20z\"/>\n",
              "  </svg>\n",
              "      </button>\n",
              "      \n",
              "  <style>\n",
              "    .colab-df-container {\n",
              "      display:flex;\n",
              "      flex-wrap:wrap;\n",
              "      gap: 12px;\n",
              "    }\n",
              "\n",
              "    .colab-df-convert {\n",
              "      background-color: #E8F0FE;\n",
              "      border: none;\n",
              "      border-radius: 50%;\n",
              "      cursor: pointer;\n",
              "      display: none;\n",
              "      fill: #1967D2;\n",
              "      height: 32px;\n",
              "      padding: 0 0 0 0;\n",
              "      width: 32px;\n",
              "    }\n",
              "\n",
              "    .colab-df-convert:hover {\n",
              "      background-color: #E2EBFA;\n",
              "      box-shadow: 0px 1px 2px rgba(60, 64, 67, 0.3), 0px 1px 3px 1px rgba(60, 64, 67, 0.15);\n",
              "      fill: #174EA6;\n",
              "    }\n",
              "\n",
              "    [theme=dark] .colab-df-convert {\n",
              "      background-color: #3B4455;\n",
              "      fill: #D2E3FC;\n",
              "    }\n",
              "\n",
              "    [theme=dark] .colab-df-convert:hover {\n",
              "      background-color: #434B5C;\n",
              "      box-shadow: 0px 1px 3px 1px rgba(0, 0, 0, 0.15);\n",
              "      filter: drop-shadow(0px 1px 2px rgba(0, 0, 0, 0.3));\n",
              "      fill: #FFFFFF;\n",
              "    }\n",
              "  </style>\n",
              "\n",
              "      <script>\n",
              "        const buttonEl =\n",
              "          document.querySelector('#df-02aec321-283a-4739-960c-fc3f1966a71a button.colab-df-convert');\n",
              "        buttonEl.style.display =\n",
              "          google.colab.kernel.accessAllowed ? 'block' : 'none';\n",
              "\n",
              "        async function convertToInteractive(key) {\n",
              "          const element = document.querySelector('#df-02aec321-283a-4739-960c-fc3f1966a71a');\n",
              "          const dataTable =\n",
              "            await google.colab.kernel.invokeFunction('convertToInteractive',\n",
              "                                                     [key], {});\n",
              "          if (!dataTable) return;\n",
              "\n",
              "          const docLinkHtml = 'Like what you see? Visit the ' +\n",
              "            '<a target=\"_blank\" href=https://colab.research.google.com/notebooks/data_table.ipynb>data table notebook</a>'\n",
              "            + ' to learn more about interactive tables.';\n",
              "          element.innerHTML = '';\n",
              "          dataTable['output_type'] = 'display_data';\n",
              "          await google.colab.output.renderOutput(dataTable, element);\n",
              "          const docLink = document.createElement('div');\n",
              "          docLink.innerHTML = docLinkHtml;\n",
              "          element.appendChild(docLink);\n",
              "        }\n",
              "      </script>\n",
              "    </div>\n",
              "  </div>\n",
              "  "
            ],
            "text/plain": [
              "        Frequency\n",
              "Word             \n",
              "like        70030\n",
              "think       59130\n",
              "people      54906\n",
              "get         53254\n",
              "thing       40650"
            ]
          },
          "execution_count": 16,
          "metadata": {},
          "output_type": "execute_result"
        }
      ],
      "source": [
        "Words_dic = Counter(Words)\n",
        "Words_dic = pd.DataFrame({'Word':list(Words_dic.keys()),'Frequency':list(Words_dic.values())})\n",
        "Words_dic.sort_values('Frequency',ascending=False,inplace=True)\n",
        "Words_dic.set_index('Word',inplace=True)\n",
        "print(len(Words_dic))\n",
        "Words_dic.head()"
      ],
      "id": "61c5eb06"
    },
    {
      "cell_type": "code",
      "execution_count": null,
      "metadata": {
        "id": "01deb607"
      },
      "outputs": [],
      "source": [
        "#Checking distribution of word frequencies"
      ],
      "id": "01deb607"
    },
    {
      "cell_type": "code",
      "execution_count": null,
      "metadata": {
        "colab": {
          "base_uri": "https://localhost:8080/"
        },
        "id": "c160f709",
        "outputId": "13b9ccc0-03b3-489c-c103-e7b91367ee4a"
      },
      "outputs": [
        {
          "data": {
            "text/plain": [
              "count    71806.000000\n",
              "mean        73.859315\n",
              "std        863.169781\n",
              "min          1.000000\n",
              "25%          1.000000\n",
              "50%          1.000000\n",
              "75%          6.000000\n",
              "max      70030.000000\n",
              "Name: Frequency, dtype: float64"
            ]
          },
          "execution_count": 18,
          "metadata": {},
          "output_type": "execute_result"
        }
      ],
      "source": [
        "Words_dic['Frequency'].describe()"
      ],
      "id": "c160f709"
    },
    {
      "cell_type": "code",
      "execution_count": null,
      "metadata": {
        "colab": {
          "base_uri": "https://localhost:8080/"
        },
        "id": "ccfff046",
        "outputId": "f4246f46-d6e8-4239-b410-24ad733771cf"
      },
      "outputs": [
        {
          "name": "stdout",
          "output_type": "stream",
          "text": [
            "1.0\n",
            "1.0\n",
            "1.0\n",
            "1.0\n",
            "1.0\n",
            "2.0\n",
            "4.0\n",
            "10.0\n",
            "39.0\n"
          ]
        }
      ],
      "source": [
        "for i in [0.1,0.2,0.3,0.4,0.5,0.6,0.7,0.8,0.9]:\n",
        "    print(Words_dic['Frequency'].quantile(i))"
      ],
      "id": "ccfff046"
    },
    {
      "cell_type": "code",
      "execution_count": null,
      "metadata": {
        "colab": {
          "base_uri": "https://localhost:8080/"
        },
        "id": "b9897598",
        "outputId": "13b1cffd-65ca-432e-b9ac-8e18509ac13c"
      },
      "outputs": [
        {
          "name": "stdout",
          "output_type": "stream",
          "text": [
            "47.0\n",
            "58.0\n",
            "74.65000000000873\n",
            "96.0\n",
            "133.0\n",
            "190.0\n",
            "294.0\n",
            "539.0\n",
            "1343.949999999997\n"
          ]
        }
      ],
      "source": [
        "for i in [0.91,0.92,0.93,0.94,0.95,0.96,0.97,0.98,0.99]:\n",
        "    print(Words_dic['Frequency'].quantile(i))"
      ],
      "id": "b9897598"
    },
    {
      "cell_type": "code",
      "execution_count": null,
      "metadata": {
        "id": "0efb6514"
      },
      "outputs": [],
      "source": [
        "#Using the top 1 quantile of words based on frequency. "
      ],
      "id": "0efb6514"
    },
    {
      "cell_type": "code",
      "execution_count": null,
      "metadata": {
        "colab": {
          "base_uri": "https://localhost:8080/"
        },
        "id": "7f33ba5a",
        "outputId": "9922b3cc-aead-43f7-ebed-2679e20fd7e3"
      },
      "outputs": [
        {
          "data": {
            "text/plain": [
              "728"
            ]
          },
          "execution_count": 22,
          "metadata": {},
          "output_type": "execute_result"
        }
      ],
      "source": [
        "Words_dic = Words_dic[Words_dic.Frequency>1330.8099999999977]\n",
        "len(Words_dic)"
      ],
      "id": "7f33ba5a"
    },
    {
      "cell_type": "code",
      "execution_count": null,
      "metadata": {
        "id": "76e0ee77"
      },
      "outputs": [],
      "source": [
        "#We will now apply these words to the entire dataset based on their presence in the posts. "
      ],
      "id": "76e0ee77"
    },
    {
      "cell_type": "code",
      "execution_count": null,
      "metadata": {
        "colab": {
          "background_save": true
        },
        "id": "78c5405b",
        "outputId": "6e0562cf-74b2-4c73-de47-41afb08e5024"
      },
      "outputs": [
        {
          "data": {
            "text/html": [
              "\n",
              "  <div id=\"df-fdd040e3-eb9e-4ff3-b9b2-9fe11fe63ab1\">\n",
              "    <div class=\"colab-df-container\">\n",
              "      <div>\n",
              "<style scoped>\n",
              "    .dataframe tbody tr th:only-of-type {\n",
              "        vertical-align: middle;\n",
              "    }\n",
              "\n",
              "    .dataframe tbody tr th {\n",
              "        vertical-align: top;\n",
              "    }\n",
              "\n",
              "    .dataframe thead th {\n",
              "        text-align: right;\n",
              "    }\n",
              "</style>\n",
              "<table border=\"1\" class=\"dataframe\">\n",
              "  <thead>\n",
              "    <tr style=\"text-align: right;\">\n",
              "      <th></th>\n",
              "      <th>Personality Type</th>\n",
              "      <th>like</th>\n",
              "      <th>think</th>\n",
              "      <th>people</th>\n",
              "      <th>get</th>\n",
              "      <th>thing</th>\n",
              "      <th>make</th>\n",
              "      <th>know</th>\n",
              "      <th>feel</th>\n",
              "      <th>one</th>\n",
              "      <th>...</th>\n",
              "      <th>activity</th>\n",
              "      <th>dark</th>\n",
              "      <th>reach</th>\n",
              "      <th>highly</th>\n",
              "      <th>fair</th>\n",
              "      <th>white</th>\n",
              "      <th>community</th>\n",
              "      <th>afraid</th>\n",
              "      <th>welcome</th>\n",
              "      <th>moral</th>\n",
              "    </tr>\n",
              "  </thead>\n",
              "  <tbody>\n",
              "    <tr>\n",
              "      <th>0</th>\n",
              "      <td>INTJ</td>\n",
              "      <td>1</td>\n",
              "      <td>1</td>\n",
              "      <td>1</td>\n",
              "      <td>1</td>\n",
              "      <td>1</td>\n",
              "      <td>1</td>\n",
              "      <td>1</td>\n",
              "      <td>1</td>\n",
              "      <td>1</td>\n",
              "      <td>...</td>\n",
              "      <td>0</td>\n",
              "      <td>0</td>\n",
              "      <td>0</td>\n",
              "      <td>0</td>\n",
              "      <td>0</td>\n",
              "      <td>0</td>\n",
              "      <td>0</td>\n",
              "      <td>0</td>\n",
              "      <td>0</td>\n",
              "      <td>0</td>\n",
              "    </tr>\n",
              "    <tr>\n",
              "      <th>1</th>\n",
              "      <td>INTJ</td>\n",
              "      <td>1</td>\n",
              "      <td>1</td>\n",
              "      <td>1</td>\n",
              "      <td>1</td>\n",
              "      <td>1</td>\n",
              "      <td>1</td>\n",
              "      <td>1</td>\n",
              "      <td>1</td>\n",
              "      <td>1</td>\n",
              "      <td>...</td>\n",
              "      <td>1</td>\n",
              "      <td>0</td>\n",
              "      <td>1</td>\n",
              "      <td>0</td>\n",
              "      <td>0</td>\n",
              "      <td>0</td>\n",
              "      <td>0</td>\n",
              "      <td>0</td>\n",
              "      <td>0</td>\n",
              "      <td>0</td>\n",
              "    </tr>\n",
              "    <tr>\n",
              "      <th>2</th>\n",
              "      <td>INTJ</td>\n",
              "      <td>1</td>\n",
              "      <td>1</td>\n",
              "      <td>1</td>\n",
              "      <td>1</td>\n",
              "      <td>1</td>\n",
              "      <td>1</td>\n",
              "      <td>1</td>\n",
              "      <td>1</td>\n",
              "      <td>1</td>\n",
              "      <td>...</td>\n",
              "      <td>0</td>\n",
              "      <td>0</td>\n",
              "      <td>0</td>\n",
              "      <td>1</td>\n",
              "      <td>0</td>\n",
              "      <td>0</td>\n",
              "      <td>0</td>\n",
              "      <td>0</td>\n",
              "      <td>1</td>\n",
              "      <td>0</td>\n",
              "    </tr>\n",
              "    <tr>\n",
              "      <th>3</th>\n",
              "      <td>INTJ</td>\n",
              "      <td>1</td>\n",
              "      <td>1</td>\n",
              "      <td>1</td>\n",
              "      <td>1</td>\n",
              "      <td>1</td>\n",
              "      <td>1</td>\n",
              "      <td>1</td>\n",
              "      <td>1</td>\n",
              "      <td>1</td>\n",
              "      <td>...</td>\n",
              "      <td>0</td>\n",
              "      <td>0</td>\n",
              "      <td>0</td>\n",
              "      <td>0</td>\n",
              "      <td>0</td>\n",
              "      <td>0</td>\n",
              "      <td>1</td>\n",
              "      <td>0</td>\n",
              "      <td>0</td>\n",
              "      <td>0</td>\n",
              "    </tr>\n",
              "    <tr>\n",
              "      <th>4</th>\n",
              "      <td>INTJ</td>\n",
              "      <td>1</td>\n",
              "      <td>1</td>\n",
              "      <td>1</td>\n",
              "      <td>1</td>\n",
              "      <td>1</td>\n",
              "      <td>1</td>\n",
              "      <td>0</td>\n",
              "      <td>1</td>\n",
              "      <td>1</td>\n",
              "      <td>...</td>\n",
              "      <td>0</td>\n",
              "      <td>0</td>\n",
              "      <td>0</td>\n",
              "      <td>0</td>\n",
              "      <td>0</td>\n",
              "      <td>0</td>\n",
              "      <td>0</td>\n",
              "      <td>0</td>\n",
              "      <td>0</td>\n",
              "      <td>0</td>\n",
              "    </tr>\n",
              "  </tbody>\n",
              "</table>\n",
              "<p>5 rows × 729 columns</p>\n",
              "</div>\n",
              "      <button class=\"colab-df-convert\" onclick=\"convertToInteractive('df-fdd040e3-eb9e-4ff3-b9b2-9fe11fe63ab1')\"\n",
              "              title=\"Convert this dataframe to an interactive table.\"\n",
              "              style=\"display:none;\">\n",
              "        \n",
              "  <svg xmlns=\"http://www.w3.org/2000/svg\" height=\"24px\"viewBox=\"0 0 24 24\"\n",
              "       width=\"24px\">\n",
              "    <path d=\"M0 0h24v24H0V0z\" fill=\"none\"/>\n",
              "    <path d=\"M18.56 5.44l.94 2.06.94-2.06 2.06-.94-2.06-.94-.94-2.06-.94 2.06-2.06.94zm-11 1L8.5 8.5l.94-2.06 2.06-.94-2.06-.94L8.5 2.5l-.94 2.06-2.06.94zm10 10l.94 2.06.94-2.06 2.06-.94-2.06-.94-.94-2.06-.94 2.06-2.06.94z\"/><path d=\"M17.41 7.96l-1.37-1.37c-.4-.4-.92-.59-1.43-.59-.52 0-1.04.2-1.43.59L10.3 9.45l-7.72 7.72c-.78.78-.78 2.05 0 2.83L4 21.41c.39.39.9.59 1.41.59.51 0 1.02-.2 1.41-.59l7.78-7.78 2.81-2.81c.8-.78.8-2.07 0-2.86zM5.41 20L4 18.59l7.72-7.72 1.47 1.35L5.41 20z\"/>\n",
              "  </svg>\n",
              "      </button>\n",
              "      \n",
              "  <style>\n",
              "    .colab-df-container {\n",
              "      display:flex;\n",
              "      flex-wrap:wrap;\n",
              "      gap: 12px;\n",
              "    }\n",
              "\n",
              "    .colab-df-convert {\n",
              "      background-color: #E8F0FE;\n",
              "      border: none;\n",
              "      border-radius: 50%;\n",
              "      cursor: pointer;\n",
              "      display: none;\n",
              "      fill: #1967D2;\n",
              "      height: 32px;\n",
              "      padding: 0 0 0 0;\n",
              "      width: 32px;\n",
              "    }\n",
              "\n",
              "    .colab-df-convert:hover {\n",
              "      background-color: #E2EBFA;\n",
              "      box-shadow: 0px 1px 2px rgba(60, 64, 67, 0.3), 0px 1px 3px 1px rgba(60, 64, 67, 0.15);\n",
              "      fill: #174EA6;\n",
              "    }\n",
              "\n",
              "    [theme=dark] .colab-df-convert {\n",
              "      background-color: #3B4455;\n",
              "      fill: #D2E3FC;\n",
              "    }\n",
              "\n",
              "    [theme=dark] .colab-df-convert:hover {\n",
              "      background-color: #434B5C;\n",
              "      box-shadow: 0px 1px 3px 1px rgba(0, 0, 0, 0.15);\n",
              "      filter: drop-shadow(0px 1px 2px rgba(0, 0, 0, 0.3));\n",
              "      fill: #FFFFFF;\n",
              "    }\n",
              "  </style>\n",
              "\n",
              "      <script>\n",
              "        const buttonEl =\n",
              "          document.querySelector('#df-fdd040e3-eb9e-4ff3-b9b2-9fe11fe63ab1 button.colab-df-convert');\n",
              "        buttonEl.style.display =\n",
              "          google.colab.kernel.accessAllowed ? 'block' : 'none';\n",
              "\n",
              "        async function convertToInteractive(key) {\n",
              "          const element = document.querySelector('#df-fdd040e3-eb9e-4ff3-b9b2-9fe11fe63ab1');\n",
              "          const dataTable =\n",
              "            await google.colab.kernel.invokeFunction('convertToInteractive',\n",
              "                                                     [key], {});\n",
              "          if (!dataTable) return;\n",
              "\n",
              "          const docLinkHtml = 'Like what you see? Visit the ' +\n",
              "            '<a target=\"_blank\" href=https://colab.research.google.com/notebooks/data_table.ipynb>data table notebook</a>'\n",
              "            + ' to learn more about interactive tables.';\n",
              "          element.innerHTML = '';\n",
              "          dataTable['output_type'] = 'display_data';\n",
              "          await google.colab.output.renderOutput(dataTable, element);\n",
              "          const docLink = document.createElement('div');\n",
              "          docLink.innerHTML = docLinkHtml;\n",
              "          element.appendChild(docLink);\n",
              "        }\n",
              "      </script>\n",
              "    </div>\n",
              "  </div>\n",
              "  "
            ],
            "text/plain": [
              "  Personality Type  like  think  people  get  thing  make  know  feel  one  \\\n",
              "0             INTJ     1      1       1    1      1     1     1     1    1   \n",
              "1             INTJ     1      1       1    1      1     1     1     1    1   \n",
              "2             INTJ     1      1       1    1      1     1     1     1    1   \n",
              "3             INTJ     1      1       1    1      1     1     1     1    1   \n",
              "4             INTJ     1      1       1    1      1     1     0     1    1   \n",
              "\n",
              "   ...  activity  dark  reach  highly  fair  white  community  afraid  \\\n",
              "0  ...         0     0      0       0     0      0          0       0   \n",
              "1  ...         1     0      1       0     0      0          0       0   \n",
              "2  ...         0     0      0       1     0      0          0       0   \n",
              "3  ...         0     0      0       0     0      0          1       0   \n",
              "4  ...         0     0      0       0     0      0          0       0   \n",
              "\n",
              "   welcome  moral  \n",
              "0        0      0  \n",
              "1        0      0  \n",
              "2        1      0  \n",
              "3        0      0  \n",
              "4        0      0  \n",
              "\n",
              "[5 rows x 729 columns]"
            ]
          },
          "execution_count": 24,
          "metadata": {},
          "output_type": "execute_result"
        }
      ],
      "source": [
        "Final_Words = list(Words_dic.index)\n",
        "for i in Final_Words:\n",
        "    MBTI[i] = MBTI['posts'].apply(lambda x: 1 if i in x.split(' ') else 0)\n",
        "MBTI.drop(['Length','posts'],axis=1,inplace=True)\n",
        "MBTI.head()"
      ],
      "id": "78c5405b"
    },
    {
      "cell_type": "code",
      "execution_count": null,
      "metadata": {
        "colab": {
          "background_save": true
        },
        "id": "2f537361",
        "outputId": "98131ff0-0ee8-43a8-ba4b-ab74b286c446"
      },
      "outputs": [
        {
          "data": {
            "text/plain": [
              "106067"
            ]
          },
          "execution_count": 25,
          "metadata": {},
          "output_type": "execute_result"
        }
      ],
      "source": [
        "len(MBTI)"
      ],
      "id": "2f537361"
    },
    {
      "cell_type": "code",
      "execution_count": null,
      "metadata": {
        "colab": {
          "background_save": true
        },
        "id": "ddab4bb4"
      },
      "outputs": [],
      "source": [
        "#EDA "
      ],
      "id": "ddab4bb4"
    },
    {
      "cell_type": "code",
      "execution_count": null,
      "metadata": {
        "colab": {
          "background_save": true
        },
        "id": "0bf62a1c"
      },
      "outputs": [],
      "source": [
        "#We will check which top 10 words for each of the different personality types. "
      ],
      "id": "0bf62a1c"
    },
    {
      "cell_type": "code",
      "execution_count": null,
      "metadata": {
        "colab": {
          "background_save": true
        },
        "id": "b248b15b",
        "outputId": "111d27e1-a2d0-4618-d52f-4da491957a05"
      },
      "outputs": [
        {
          "data": {
            "text/html": [
              "\n",
              "  <div id=\"df-6a6bac29-3ec4-4256-bf5e-161d70d79652\">\n",
              "    <div class=\"colab-df-container\">\n",
              "      <div>\n",
              "<style scoped>\n",
              "    .dataframe tbody tr th:only-of-type {\n",
              "        vertical-align: middle;\n",
              "    }\n",
              "\n",
              "    .dataframe tbody tr th {\n",
              "        vertical-align: top;\n",
              "    }\n",
              "\n",
              "    .dataframe thead th {\n",
              "        text-align: right;\n",
              "    }\n",
              "</style>\n",
              "<table border=\"1\" class=\"dataframe\">\n",
              "  <thead>\n",
              "    <tr style=\"text-align: right;\">\n",
              "      <th>Personality Type</th>\n",
              "      <th>ENFJ</th>\n",
              "      <th>ENFP</th>\n",
              "      <th>ENTJ</th>\n",
              "      <th>ENTP</th>\n",
              "      <th>ESFJ</th>\n",
              "      <th>ESFP</th>\n",
              "      <th>ESTJ</th>\n",
              "      <th>ESTP</th>\n",
              "      <th>INFJ</th>\n",
              "      <th>INFP</th>\n",
              "      <th>INTJ</th>\n",
              "      <th>INTP</th>\n",
              "      <th>ISFJ</th>\n",
              "      <th>ISFP</th>\n",
              "      <th>ISTJ</th>\n",
              "      <th>ISTP</th>\n",
              "    </tr>\n",
              "  </thead>\n",
              "  <tbody>\n",
              "    <tr>\n",
              "      <th>like</th>\n",
              "      <td>0.994785</td>\n",
              "      <td>0.998054</td>\n",
              "      <td>0.988494</td>\n",
              "      <td>0.996077</td>\n",
              "      <td>1.000000</td>\n",
              "      <td>0.994444</td>\n",
              "      <td>0.981328</td>\n",
              "      <td>0.986908</td>\n",
              "      <td>0.996391</td>\n",
              "      <td>0.998187</td>\n",
              "      <td>0.992286</td>\n",
              "      <td>0.994832</td>\n",
              "      <td>1.000000</td>\n",
              "      <td>0.998857</td>\n",
              "      <td>0.995173</td>\n",
              "      <td>0.994743</td>\n",
              "    </tr>\n",
              "    <tr>\n",
              "      <th>think</th>\n",
              "      <td>0.991525</td>\n",
              "      <td>0.991406</td>\n",
              "      <td>0.983756</td>\n",
              "      <td>0.993006</td>\n",
              "      <td>0.994475</td>\n",
              "      <td>0.994444</td>\n",
              "      <td>0.987552</td>\n",
              "      <td>0.965760</td>\n",
              "      <td>0.992649</td>\n",
              "      <td>0.991759</td>\n",
              "      <td>0.986445</td>\n",
              "      <td>0.991827</td>\n",
              "      <td>0.998462</td>\n",
              "      <td>0.998857</td>\n",
              "      <td>0.983910</td>\n",
              "      <td>0.987442</td>\n",
              "    </tr>\n",
              "    <tr>\n",
              "      <th>people</th>\n",
              "      <td>0.981095</td>\n",
              "      <td>0.982001</td>\n",
              "      <td>0.974958</td>\n",
              "      <td>0.982260</td>\n",
              "      <td>0.977901</td>\n",
              "      <td>0.986111</td>\n",
              "      <td>0.962656</td>\n",
              "      <td>0.966264</td>\n",
              "      <td>0.981354</td>\n",
              "      <td>0.979974</td>\n",
              "      <td>0.980604</td>\n",
              "      <td>0.977685</td>\n",
              "      <td>0.986154</td>\n",
              "      <td>0.980571</td>\n",
              "      <td>0.964602</td>\n",
              "      <td>0.979848</td>\n",
              "    </tr>\n",
              "    <tr>\n",
              "      <th>get</th>\n",
              "      <td>0.977836</td>\n",
              "      <td>0.992217</td>\n",
              "      <td>0.985110</td>\n",
              "      <td>0.986695</td>\n",
              "      <td>0.988950</td>\n",
              "      <td>0.986111</td>\n",
              "      <td>0.941909</td>\n",
              "      <td>0.975327</td>\n",
              "      <td>0.988171</td>\n",
              "      <td>0.985495</td>\n",
              "      <td>0.983993</td>\n",
              "      <td>0.983094</td>\n",
              "      <td>0.978462</td>\n",
              "      <td>0.980571</td>\n",
              "      <td>0.990346</td>\n",
              "      <td>0.989486</td>\n",
              "    </tr>\n",
              "    <tr>\n",
              "      <th>thing</th>\n",
              "      <td>0.966754</td>\n",
              "      <td>0.969677</td>\n",
              "      <td>0.930964</td>\n",
              "      <td>0.961365</td>\n",
              "      <td>0.961326</td>\n",
              "      <td>0.961111</td>\n",
              "      <td>0.846473</td>\n",
              "      <td>0.864048</td>\n",
              "      <td>0.965582</td>\n",
              "      <td>0.966870</td>\n",
              "      <td>0.961653</td>\n",
              "      <td>0.962782</td>\n",
              "      <td>0.966154</td>\n",
              "      <td>0.974857</td>\n",
              "      <td>0.955752</td>\n",
              "      <td>0.959696</td>\n",
              "    </tr>\n",
              "  </tbody>\n",
              "</table>\n",
              "</div>\n",
              "      <button class=\"colab-df-convert\" onclick=\"convertToInteractive('df-6a6bac29-3ec4-4256-bf5e-161d70d79652')\"\n",
              "              title=\"Convert this dataframe to an interactive table.\"\n",
              "              style=\"display:none;\">\n",
              "        \n",
              "  <svg xmlns=\"http://www.w3.org/2000/svg\" height=\"24px\"viewBox=\"0 0 24 24\"\n",
              "       width=\"24px\">\n",
              "    <path d=\"M0 0h24v24H0V0z\" fill=\"none\"/>\n",
              "    <path d=\"M18.56 5.44l.94 2.06.94-2.06 2.06-.94-2.06-.94-.94-2.06-.94 2.06-2.06.94zm-11 1L8.5 8.5l.94-2.06 2.06-.94-2.06-.94L8.5 2.5l-.94 2.06-2.06.94zm10 10l.94 2.06.94-2.06 2.06-.94-2.06-.94-.94-2.06-.94 2.06-2.06.94z\"/><path d=\"M17.41 7.96l-1.37-1.37c-.4-.4-.92-.59-1.43-.59-.52 0-1.04.2-1.43.59L10.3 9.45l-7.72 7.72c-.78.78-.78 2.05 0 2.83L4 21.41c.39.39.9.59 1.41.59.51 0 1.02-.2 1.41-.59l7.78-7.78 2.81-2.81c.8-.78.8-2.07 0-2.86zM5.41 20L4 18.59l7.72-7.72 1.47 1.35L5.41 20z\"/>\n",
              "  </svg>\n",
              "      </button>\n",
              "      \n",
              "  <style>\n",
              "    .colab-df-container {\n",
              "      display:flex;\n",
              "      flex-wrap:wrap;\n",
              "      gap: 12px;\n",
              "    }\n",
              "\n",
              "    .colab-df-convert {\n",
              "      background-color: #E8F0FE;\n",
              "      border: none;\n",
              "      border-radius: 50%;\n",
              "      cursor: pointer;\n",
              "      display: none;\n",
              "      fill: #1967D2;\n",
              "      height: 32px;\n",
              "      padding: 0 0 0 0;\n",
              "      width: 32px;\n",
              "    }\n",
              "\n",
              "    .colab-df-convert:hover {\n",
              "      background-color: #E2EBFA;\n",
              "      box-shadow: 0px 1px 2px rgba(60, 64, 67, 0.3), 0px 1px 3px 1px rgba(60, 64, 67, 0.15);\n",
              "      fill: #174EA6;\n",
              "    }\n",
              "\n",
              "    [theme=dark] .colab-df-convert {\n",
              "      background-color: #3B4455;\n",
              "      fill: #D2E3FC;\n",
              "    }\n",
              "\n",
              "    [theme=dark] .colab-df-convert:hover {\n",
              "      background-color: #434B5C;\n",
              "      box-shadow: 0px 1px 3px 1px rgba(0, 0, 0, 0.15);\n",
              "      filter: drop-shadow(0px 1px 2px rgba(0, 0, 0, 0.3));\n",
              "      fill: #FFFFFF;\n",
              "    }\n",
              "  </style>\n",
              "\n",
              "      <script>\n",
              "        const buttonEl =\n",
              "          document.querySelector('#df-6a6bac29-3ec4-4256-bf5e-161d70d79652 button.colab-df-convert');\n",
              "        buttonEl.style.display =\n",
              "          google.colab.kernel.accessAllowed ? 'block' : 'none';\n",
              "\n",
              "        async function convertToInteractive(key) {\n",
              "          const element = document.querySelector('#df-6a6bac29-3ec4-4256-bf5e-161d70d79652');\n",
              "          const dataTable =\n",
              "            await google.colab.kernel.invokeFunction('convertToInteractive',\n",
              "                                                     [key], {});\n",
              "          if (!dataTable) return;\n",
              "\n",
              "          const docLinkHtml = 'Like what you see? Visit the ' +\n",
              "            '<a target=\"_blank\" href=https://colab.research.google.com/notebooks/data_table.ipynb>data table notebook</a>'\n",
              "            + ' to learn more about interactive tables.';\n",
              "          element.innerHTML = '';\n",
              "          dataTable['output_type'] = 'display_data';\n",
              "          await google.colab.output.renderOutput(dataTable, element);\n",
              "          const docLink = document.createElement('div');\n",
              "          docLink.innerHTML = docLinkHtml;\n",
              "          element.appendChild(docLink);\n",
              "        }\n",
              "      </script>\n",
              "    </div>\n",
              "  </div>\n",
              "  "
            ],
            "text/plain": [
              "Personality Type      ENFJ      ENFP      ENTJ      ENTP      ESFJ      ESFP  \\\n",
              "like              0.994785  0.998054  0.988494  0.996077  1.000000  0.994444   \n",
              "think             0.991525  0.991406  0.983756  0.993006  0.994475  0.994444   \n",
              "people            0.981095  0.982001  0.974958  0.982260  0.977901  0.986111   \n",
              "get               0.977836  0.992217  0.985110  0.986695  0.988950  0.986111   \n",
              "thing             0.966754  0.969677  0.930964  0.961365  0.961326  0.961111   \n",
              "\n",
              "Personality Type      ESTJ      ESTP      INFJ      INFP      INTJ      INTP  \\\n",
              "like              0.981328  0.986908  0.996391  0.998187  0.992286  0.994832   \n",
              "think             0.987552  0.965760  0.992649  0.991759  0.986445  0.991827   \n",
              "people            0.962656  0.966264  0.981354  0.979974  0.980604  0.977685   \n",
              "get               0.941909  0.975327  0.988171  0.985495  0.983993  0.983094   \n",
              "thing             0.846473  0.864048  0.965582  0.966870  0.961653  0.962782   \n",
              "\n",
              "Personality Type      ISFJ      ISFP      ISTJ      ISTP  \n",
              "like              1.000000  0.998857  0.995173  0.994743  \n",
              "think             0.998462  0.998857  0.983910  0.987442  \n",
              "people            0.986154  0.980571  0.964602  0.979848  \n",
              "get               0.978462  0.980571  0.990346  0.989486  \n",
              "thing             0.966154  0.974857  0.955752  0.959696  "
            ]
          },
          "execution_count": 28,
          "metadata": {},
          "output_type": "execute_result"
        }
      ],
      "source": [
        "MBTI_EDA = MBTI.groupby('Personality Type').mean()\n",
        "MBTI_EDA = MBTI_EDA.transpose()\n",
        "MBTI_EDA.head()"
      ],
      "id": "b248b15b"
    },
    {
      "cell_type": "code",
      "execution_count": null,
      "metadata": {
        "colab": {
          "background_save": true
        },
        "id": "369f7ea9",
        "outputId": "ffe291c9-5325-4c4c-d8fd-a22caabdc559"
      },
      "outputs": [
        {
          "data": {
            "text/plain": [
              "728"
            ]
          },
          "execution_count": 29,
          "metadata": {},
          "output_type": "execute_result"
        }
      ],
      "source": [
        "len(MBTI_EDA)"
      ],
      "id": "369f7ea9"
    },
    {
      "cell_type": "code",
      "execution_count": null,
      "metadata": {
        "colab": {
          "background_save": true
        },
        "id": "47cec82b",
        "outputId": "979b42b8-2ba2-45c9-af44-a2560ecd50cf"
      },
      "outputs": [
        {
          "data": {
            "image/png": "[encoded data removed]",
            "text/plain": [
              "<Figure size 1080x360 with 1 Axes>"
            ]
          },
          "metadata": {},
          "output_type": "display_data"
        }
      ],
      "source": [
        "MBTI_EDA_ENFJ = MBTI_EDA[['ENFJ']]\n",
        "MBTI_EDA_ENFJ.sort_values('ENFJ',ascending=False,inplace=True)\n",
        "MBTI_EDA_ENFJ = MBTI_EDA_ENFJ.head(20)\n",
        "plt.figure(figsize=(15,5))\n",
        "sns.barplot(x=MBTI_EDA_ENFJ.ENFJ,y=MBTI_EDA_ENFJ.index)\n",
        "plt.title('ENFJ vs Words')\n",
        "plt.show()"
      ],
      "id": "47cec82b"
    },
    {
      "cell_type": "code",
      "execution_count": null,
      "metadata": {
        "colab": {
          "background_save": true
        },
        "id": "7cae0c45",
        "outputId": "f35277da-cac6-42fc-97b5-ba8334344ca3"
      },
      "outputs": [
        {
          "data": {
            "image/png": "[encoded data removed]",
            "text/plain": [
              "<Figure size 1080x360 with 1 Axes>"
            ]
          },
          "metadata": {},
          "output_type": "display_data"
        }
      ],
      "source": [
        "MBTI_EDA_ENFP = MBTI_EDA[['ENFP']]\n",
        "MBTI_EDA_ENFP.sort_values('ENFP',ascending=False,inplace=True)\n",
        "MBTI_EDA_ENFP = MBTI_EDA_ENFP.head(20)\n",
        "plt.figure(figsize=(15,5))\n",
        "sns.barplot(x=MBTI_EDA_ENFP.ENFP,y=MBTI_EDA_ENFP.index)\n",
        "plt.title('ENFP vs Words')\n",
        "plt.show()"
      ],
      "id": "7cae0c45"
    },
    {
      "cell_type": "code",
      "execution_count": null,
      "metadata": {
        "colab": {
          "background_save": true
        },
        "id": "2148bde5",
        "outputId": "ac633fe7-4956-4a51-c56f-9a75f462d357"
      },
      "outputs": [
        {
          "data": {
            "image/png": "[encoded data removed]",
            "text/plain": [
              "<Figure size 1080x360 with 1 Axes>"
            ]
          },
          "metadata": {},
          "output_type": "display_data"
        }
      ],
      "source": [
        "MBTI_EDA_ESTP = MBTI_EDA[['ESTP']]\n",
        "MBTI_EDA_ESTP.sort_values('ESTP',ascending=False,inplace=True)\n",
        "MBTI_EDA_ESTP = MBTI_EDA_ESTP.head(20)\n",
        "plt.figure(figsize=(15,5))\n",
        "sns.barplot(x=MBTI_EDA_ESTP.ESTP,y=MBTI_EDA_ESTP.index)\n",
        "plt.title('ESTP vs Words')\n",
        "plt.show()"
      ],
      "id": "2148bde5"
    },
    {
      "cell_type": "code",
      "execution_count": null,
      "metadata": {
        "colab": {
          "background_save": true
        },
        "id": "af70b001",
        "outputId": "3fe34528-541f-4906-a270-d2474eb370a8"
      },
      "outputs": [
        {
          "data": {
            "image/png": "[encoded data removed]",
            "text/plain": [
              "<Figure size 1080x360 with 1 Axes>"
            ]
          },
          "metadata": {},
          "output_type": "display_data"
        }
      ],
      "source": [
        "MBTI_EDA_INTP = MBTI_EDA[['INTP']]\n",
        "MBTI_EDA_INTP.sort_values('INTP',ascending=False,inplace=True)\n",
        "MBTI_EDA_INTP = MBTI_EDA_INTP.head(20)\n",
        "plt.figure(figsize=(15,5))\n",
        "sns.barplot(x=MBTI_EDA_INTP.INTP,y=MBTI_EDA_INTP.index)\n",
        "plt.title('INTP vs Words')\n",
        "plt.show()"
      ],
      "id": "af70b001"
    },
    {
      "cell_type": "code",
      "execution_count": null,
      "metadata": {
        "colab": {
          "background_save": true
        },
        "id": "7744b059",
        "outputId": "d1102f8f-dea5-4b8b-9fc1-e392ac114e01"
      },
      "outputs": [
        {
          "data": {
            "image/png": "[encoded data removed]",
            "text/plain": [
              "<Figure size 1080x360 with 1 Axes>"
            ]
          },
          "metadata": {},
          "output_type": "display_data"
        }
      ],
      "source": [
        "MBTI_EDA_ISTJ = MBTI_EDA[['ISTJ']]\n",
        "MBTI_EDA_ISTJ.sort_values('ISTJ',ascending=False,inplace=True)\n",
        "MBTI_EDA_ISTJ = MBTI_EDA_ISTJ.head(20)\n",
        "plt.figure(figsize=(15,5))\n",
        "sns.barplot(x=MBTI_EDA_ISTJ.ISTJ,y=MBTI_EDA_ISTJ.index)\n",
        "plt.title('ISTJ vs Words')\n",
        "plt.show()"
      ],
      "id": "7744b059"
    },
    {
      "cell_type": "code",
      "execution_count": null,
      "metadata": {
        "colab": {
          "background_save": true
        },
        "id": "eb367a49"
      },
      "outputs": [],
      "source": [
        "#We get a chart of the most probable words being used in the posts of some of the personality types. "
      ],
      "id": "eb367a49"
    },
    {
      "cell_type": "code",
      "execution_count": null,
      "metadata": {
        "colab": {
          "background_save": true
        },
        "id": "57611508"
      },
      "outputs": [],
      "source": [
        "#Model building "
      ],
      "id": "57611508"
    },
    {
      "cell_type": "code",
      "execution_count": null,
      "metadata": {
        "colab": {
          "background_save": true
        },
        "id": "8dae068c"
      },
      "outputs": [],
      "source": [
        "#Now we will build a model to predict each personality type from the words used. "
      ],
      "id": "8dae068c"
    },
    {
      "cell_type": "code",
      "execution_count": null,
      "metadata": {
        "colab": {
          "background_save": true
        },
        "id": "84b1505e"
      },
      "outputs": [],
      "source": [
        "from sklearn.ensemble import RandomForestClassifier\n",
        "from sklearn.model_selection import train_test_split, GridSearchCV\n",
        "from sklearn.metrics import accuracy_score, recall_score"
      ],
      "id": "84b1505e"
    },
    {
      "cell_type": "code",
      "execution_count": null,
      "metadata": {
        "colab": {
          "background_save": true
        },
        "id": "f1766214"
      },
      "outputs": [],
      "source": [
        "Personalities = ['INFP','INFJ','INTP','INTJ','ENTP','ENFP','ISTP','ISFP','ENTJ','ISTJ','ENFJ','ISFJ','ESTP','ESFP','ESFJ','ESTJ']\n",
        "Feature_Importance = pd.DataFrame()"
      ],
      "id": "f1766214"
    },
    {
      "cell_type": "code",
      "execution_count": null,
      "metadata": {
        "colab": {
          "background_save": true
        },
        "id": "34faee67"
      },
      "outputs": [],
      "source": [
        "#Taking only a small sample of the data for training since we have a lot of data. "
      ],
      "id": "34faee67"
    },
    {
      "cell_type": "code",
      "execution_count": null,
      "metadata": {
        "colab": {
          "background_save": true
        },
        "id": "337ba2ed"
      },
      "outputs": [],
      "source": [
        "MBTI =  MBTI.sample(frac=0.05)"
      ],
      "id": "337ba2ed"
    },
    {
      "cell_type": "code",
      "execution_count": null,
      "metadata": {
        "id": "ec0979ae",
        "scrolled": true,
        "colab": {
          "base_uri": "https://localhost:8080/"
        },
        "outputId": "2bdc86dd-5645-4acc-e1ce-506dc53a676f"
      },
      "outputs": [
        {
          "output_type": "stream",
          "name": "stdout",
          "text": [
            "Fitting 5 folds for each of 48 candidates, totalling 240 fits\n",
            "INFP\n",
            "Train Accuracy : 0.9806034482758621\n",
            "Test Accuracy : 0.9226901319924575\n",
            "Fitting 5 folds for each of 48 candidates, totalling 240 fits\n",
            "INFJ\n",
            "Train Accuracy : 0.9630926724137931\n",
            "Test Accuracy : 0.9088623507228158\n",
            "Fitting 5 folds for each of 48 candidates, totalling 240 fits\n",
            "INTP\n",
            "Train Accuracy : 0.9841056034482759\n",
            "Test Accuracy : 0.8604651162790697\n",
            "Fitting 5 folds for each of 48 candidates, totalling 240 fits\n",
            "INTJ\n",
            "Train Accuracy : 0.9568965517241379\n",
            "Test Accuracy : 0.8868636077938403\n",
            "Fitting 5 folds for each of 48 candidates, totalling 240 fits\n",
            "ENTP\n",
            "Train Accuracy : 0.9838362068965517\n",
            "Test Accuracy : 0.9164047768698932\n",
            "Fitting 5 folds for each of 48 candidates, totalling 240 fits\n",
            "ENFP\n",
            "Train Accuracy : 0.9846443965517241\n",
            "Test Accuracy : 0.9358893777498428\n",
            "Fitting 5 folds for each of 48 candidates, totalling 240 fits\n",
            "ISTP\n",
            "Train Accuracy : 1.0\n",
            "Test Accuracy : 0.9660590823381521\n",
            "Fitting 5 folds for each of 48 candidates, totalling 240 fits\n",
            "ISFP\n",
            "Train Accuracy : 1.0\n",
            "Test Accuracy : 0.9930861093651792\n",
            "Fitting 5 folds for each of 48 candidates, totalling 240 fits\n",
            "ENTJ\n",
            "Train Accuracy : 0.9997306034482759\n",
            "Test Accuracy : 0.9767441860465116\n",
            "Fitting 5 folds for each of 48 candidates, totalling 240 fits\n",
            "ISTJ\n",
            "Train Accuracy : 0.9994612068965517\n",
            "Test Accuracy : 0.9924575738529227\n",
            "Fitting 5 folds for each of 48 candidates, totalling 240 fits\n",
            "ENFJ\n",
            "Train Accuracy : 0.9994612068965517\n",
            "Test Accuracy : 0.9861722187303583\n",
            "Fitting 5 folds for each of 48 candidates, totalling 240 fits\n",
            "ISFJ\n",
            "Train Accuracy : 0.9997306034482759\n",
            "Test Accuracy : 0.9937146448774355\n",
            "Fitting 5 folds for each of 48 candidates, totalling 240 fits\n",
            "ESTP\n",
            "Train Accuracy : 0.9881465517241379\n",
            "Test Accuracy : 0.9842866121935889\n",
            "Fitting 5 folds for each of 48 candidates, totalling 240 fits\n",
            "ESFP\n",
            "Train Accuracy : 1.0\n",
            "Test Accuracy : 0.9981143934632307\n",
            "Fitting 5 folds for each of 48 candidates, totalling 240 fits\n",
            "ESFJ\n",
            "Train Accuracy : 1.0\n",
            "Test Accuracy : 0.9987429289754871\n",
            "Fitting 5 folds for each of 48 candidates, totalling 240 fits\n",
            "ESTJ\n",
            "Train Accuracy : 0.9994612068965517\n",
            "Test Accuracy : 0.9956002514142049\n"
          ]
        }
      ],
      "source": [
        "for i in Personalities:\n",
        "    Temp = MBTI.copy()\n",
        "    Temp['Personality Type'] = Temp['Personality Type'].apply(lambda x: 1 if x==i else 0)\n",
        "    X = Temp.drop('Personality Type',axis=1)\n",
        "    y = Temp['Personality Type']\n",
        "    X_train, X_test, y_train, y_test = train_test_split(X,y,train_size=0.7,random_state=100)\n",
        "    \n",
        "    Model = RandomForestClassifier(n_jobs=-1,random_state=100,class_weight='balanced')\n",
        "    \n",
        "    params = {'n_estimators':[100],\n",
        "              'max_depth':[3,5,7,10,12,15],\n",
        "              'max_features':[0.05,0.1,0.15,0.2],\n",
        "              'criterion':[\"gini\",\"entropy\"]}\n",
        "    \n",
        "    grid_search = GridSearchCV(estimator=Model,param_grid=params,verbose=1,n_jobs=-1,scoring='accuracy')\n",
        "    grid_search.fit(X_train,y_train)\n",
        "    \n",
        "    Model_best = grid_search.best_estimator_\n",
        "    \n",
        "    y_train_pred = Model_best.predict(X_train)\n",
        "    y_test_pred = Model_best.predict(X_test)\n",
        "    \n",
        "    print(i)\n",
        "    print('Train Accuracy :',accuracy_score(y_train,y_train_pred))\n",
        "    print('Test Accuracy :',accuracy_score(y_test,y_test_pred))\n",
        "\n",
        "    \n",
        "    Feature_Importance['Feature'] = X_train.columns\n",
        "    Feature_Importance[i] = Model_best.feature_importances_"
      ],
      "id": "ec0979ae"
    }
  ],
  "metadata": {
    "colab": {
      "provenance": [],
      "include_colab_link": true
    },
    "gpuClass": "standard",
    "kernelspec": {
      "display_name": "Python 3 (ipykernel)",
      "language": "python",
      "name": "python3"
    },
    "language_info": {
      "codemirror_mode": {
        "name": "ipython",
        "version": 3
      },
      "file_extension": ".py",
      "mimetype": "text/x-python",
      "name": "python",
      "nbconvert_exporter": "python",
      "pygments_lexer": "ipython3",
      "version": "3.8.12"
    },
    "papermill": {
      "default_parameters": {},
      "duration": 4398.908188,
      "end_time": "2022-03-15T16:33:13.771978",
      "environment_variables": {},
      "exception": null,
      "input_path": "__notebook__.ipynb",
      "output_path": "__notebook__.ipynb",
      "parameters": {},
      "start_time": "2022-03-15T15:19:54.863790",
      "version": "2.3.3"
    },
    "vscode": {
      "interpreter": {
        "hash": "fc7cdeb4d31a79c0c4544f2dd685be14ede106a6c343ee6c59a170eaa0a90baf"
      }
    }
  },
  "nbformat": 4,
  "nbformat_minor": 5
}